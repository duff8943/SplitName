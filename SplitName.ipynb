{
 "cells": [
  {
   "cell_type": "code",
   "execution_count": null,
   "metadata": {},
   "outputs": [],
   "source": [
    "# Defining a function to split names into prefix, first, middle, and last names\n",
    "def split_name(name):\n",
    "    if pd.isnull(name):\n",
    "        return pd.Series([np.nan, np.nan, np.nan, np.nan])\n",
    "    # defining popular prefixes\n",
    "    prefixes = ['Mr', 'Mrs', 'Ms', 'Miss', 'Dr', 'Doctor','Prof']\n",
    "    # splitting names and starting with empty strings\n",
    "    name_parts = name.split()\n",
    "    prefix = ''\n",
    "    first_name = ''\n",
    "    last_name = ''\n",
    "    middle_name = ''\n",
    "    # using if/else statements to index each name part and check our conditions to assign name parts correctly.\n",
    "    if name_parts and name_parts[0] in prefixes:\n",
    "        prefix = name_parts[0]\n",
    "        if len(name_parts) > 2:\n",
    "            first_name = name_parts[1]\n",
    "            if len(name_parts) == 4:\n",
    "                middle_name = name_parts[2]\n",
    "                last_name = name_parts[3]\n",
    "            else:\n",
    "                last_name = name_parts[2]\n",
    "        else:\n",
    "            if len(name_parts) == 2:\n",
    "                first_name = name_parts[1]\n",
    "    else:\n",
    "        if len(name_parts) > 1:\n",
    "            first_name = name_parts[0]\n",
    "            if len(name_parts) == 3:\n",
    "                middle_name = name_parts[1]\n",
    "                last_name = name_parts[2]\n",
    "            else:\n",
    "                last_name = name_parts[1]\n",
    "        else:\n",
    "            if len(name_parts) == 1:\n",
    "                first_name = name_parts[0]\n",
    "    return pd.Series([prefix, first_name, middle_name, last_name])"
   ]
  }
 ],
 "metadata": {
  "language_info": {
   "name": "python"
  },
  "orig_nbformat": 4
 },
 "nbformat": 4,
 "nbformat_minor": 2
}
